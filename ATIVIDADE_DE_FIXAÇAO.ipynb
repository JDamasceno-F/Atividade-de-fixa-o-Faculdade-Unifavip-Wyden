{
  "nbformat": 4,
  "nbformat_minor": 0,
  "metadata": {
    "colab": {
      "provenance": [],
      "authorship_tag": "ABX9TyPapy89El9NPIS0dBjmwzyE",
      "include_colab_link": true
    },
    "kernelspec": {
      "name": "python3",
      "display_name": "Python 3"
    },
    "language_info": {
      "name": "python"
    }
  },
  "cells": [
    {
      "cell_type": "markdown",
      "metadata": {
        "id": "view-in-github",
        "colab_type": "text"
      },
      "source": [
        "<a href=\"https://colab.research.google.com/github/JDamasceno-F/Atividade-de-fixa-o-Faculdade-Unifavip-Wyden/blob/main/ATIVIDADE_DE_FIXA%C3%87AO.ipynb\" target=\"_parent\"><img src=\"https://colab.research.google.com/assets/colab-badge.svg\" alt=\"Open In Colab\"/></a>"
      ]
    },
    {
      "cell_type": "markdown",
      "source": [
        "AT 01"
      ],
      "metadata": {
        "id": "VTI14D9v_Y7G"
      }
    },
    {
      "cell_type": "code",
      "source": [
        "print(\"ALunos - PLP unifavip\")"
      ],
      "metadata": {
        "id": "5EaK6lSF_28S"
      },
      "execution_count": null,
      "outputs": []
    },
    {
      "cell_type": "markdown",
      "source": [
        "AT 02"
      ],
      "metadata": {
        "id": "wG48wJic_bqw"
      }
    },
    {
      "cell_type": "code",
      "source": [
        "numero = input(\"insira uma número\")\n",
        "print(numero)"
      ],
      "metadata": {
        "id": "3_4dPwGY_3ns"
      },
      "execution_count": null,
      "outputs": []
    },
    {
      "cell_type": "markdown",
      "source": [
        "AT 03"
      ],
      "metadata": {
        "id": "5vR4AEJd_em4"
      }
    },
    {
      "cell_type": "code",
      "source": [
        "n1=int(input(\"insira o primeiro numero \"))\n",
        "n2=int(input(\"insira o segundo numero \"))\n",
        "S=n1+n2\n",
        "print(S)"
      ],
      "metadata": {
        "id": "XDliIxn__4dU"
      },
      "execution_count": null,
      "outputs": []
    },
    {
      "cell_type": "markdown",
      "source": [
        "AT 04"
      ],
      "metadata": {
        "id": "yxasiJ5n_hN3"
      }
    },
    {
      "cell_type": "code",
      "source": [
        "n1=int(input('insira a nota da primeira unidade '))\n",
        "n2=int(input('insira a nota da segunda unidade '))\n",
        "n3=int(input('insira a nota da terceira unidade '))\n",
        "n4=int(input('insira a nota da quarta unidade '))\n",
        "n=n1+n2+n3+n4\n",
        "M=n/4\n",
        "print(f'Sua media anual é {M}')"
      ],
      "metadata": {
        "id": "BqsSxyZK_5Ly"
      },
      "execution_count": null,
      "outputs": []
    },
    {
      "cell_type": "markdown",
      "source": [
        "AT 05"
      ],
      "metadata": {
        "id": "fGw7EJa4_jFE"
      }
    },
    {
      "cell_type": "code",
      "source": [
        "m = int(input(\"Digite o valor em metros: \"))\n",
        "cm = m * 100\n",
        "print(f'o valor em centimetros é {cm}')"
      ],
      "metadata": {
        "id": "gEU4nO-w_5hk"
      },
      "execution_count": null,
      "outputs": []
    },
    {
      "cell_type": "markdown",
      "source": [
        "AT 06"
      ],
      "metadata": {
        "id": "44m6hNhu_l6g"
      }
    },
    {
      "cell_type": "code",
      "source": [
        "r= int(input('qual raio devo calcular a area? '))\n",
        "a = 3.14 * r ** 2\n",
        "print(f'a area desse circulo é {a}')"
      ],
      "metadata": {
        "id": "ITwp1nTC_6Ga"
      },
      "execution_count": null,
      "outputs": []
    },
    {
      "cell_type": "markdown",
      "source": [
        "AT 07"
      ],
      "metadata": {
        "id": "kHXF38Fd_nO7"
      }
    },
    {
      "cell_type": "code",
      "source": [
        "b= int(input('qual valor da base? '))\n",
        "a= b**2\n",
        "A= a*2\n",
        "print(f'o valor da sua area é {a} e multiplicado por 2 é {A}')"
      ],
      "metadata": {
        "id": "uiJFy6G7_6Zi"
      },
      "execution_count": null,
      "outputs": []
    },
    {
      "cell_type": "markdown",
      "source": [
        "AT 08"
      ],
      "metadata": {
        "id": "Ro2dfYDJ_o29"
      }
    },
    {
      "cell_type": "code",
      "source": [
        "ht=int(input('quantas horas vc trabalhar? '))\n",
        "P=int(input('qual o preço da sua hora? '))\n",
        "S=P*ht\n",
        "print(f'Se vc trabalha {ht} horas e te pagam {P} R$/hr vc irá ganhar {S}R$')"
      ],
      "metadata": {
        "id": "AuUlskTH_7es"
      },
      "execution_count": null,
      "outputs": []
    },
    {
      "cell_type": "markdown",
      "source": [
        "AT 09"
      ],
      "metadata": {
        "id": "7stKLujz_sO7"
      }
    },
    {
      "cell_type": "code",
      "source": [
        "F=int(input('qual a temperatura em F*? '))\n",
        "c=F-32\n",
        "C=c*5/9\n",
        "print(f' A temperatura é {C} graus ceucius')"
      ],
      "metadata": {
        "id": "Zf9OTJyl_77D"
      },
      "execution_count": null,
      "outputs": []
    },
    {
      "cell_type": "markdown",
      "source": [
        "AT 10"
      ],
      "metadata": {
        "id": "q32JkXFt_uyw"
      }
    },
    {
      "cell_type": "code",
      "source": [
        "C=int(input('quantos graus ceucius? '))\n",
        "f=C*9/5\n",
        "F=f+32\n",
        "print(f'vc tem {F}F*')"
      ],
      "metadata": {
        "id": "uB7VSsmC_8Tz"
      },
      "execution_count": null,
      "outputs": []
    },
    {
      "cell_type": "markdown",
      "source": [
        "AT 11"
      ],
      "metadata": {
        "id": "Kp2_rVGr_xSW"
      }
    },
    {
      "cell_type": "code",
      "source": [
        "int1=int(input(\"digite um numero inteiro: \"))\n",
        "int2=int(input(\"digite um numero inteiro: \"))\n",
        "real=float(input(\"digite um numero real: \"))\n",
        "R1=(int1*2)*(int2/2)\n",
        "R2=(int1*3)+real\n",
        "R3=real**3 #potenciaçao\n",
        "print(f\"a) {R1} B) {R2} c) {R3:.2f}\") # \"F\" atrigui a [ ] o valor ou texto da variavel"
      ],
      "metadata": {
        "id": "utstMhVT_85i"
      },
      "execution_count": null,
      "outputs": []
    },
    {
      "cell_type": "markdown",
      "source": [
        "AT 12"
      ],
      "metadata": {
        "id": "IkyGnu1F_yyo"
      }
    },
    {
      "cell_type": "code",
      "source": [
        "p=float(input('qual o sua altura? '))\n",
        "x=(72.7*p)-58\n",
        "print(f\"seu peso ideal é {x:.2f}Kg\")#para deixar a resposta curta EX: 12.2222222 = 12.22"
      ],
      "metadata": {
        "id": "8yQjY0Q0_9Wn"
      },
      "execution_count": null,
      "outputs": []
    },
    {
      "cell_type": "markdown",
      "source": [
        "AT 13"
      ],
      "metadata": {
        "id": "AnKsKQSH_0BJ"
      }
    },
    {
      "cell_type": "code",
      "source": [
        "p=float(input('qual o sua altura? '))\n",
        "x=(72.7*p)-58\n",
        "y=(62.1*p)-44.7\n",
        "print(f\"peso idel para homem: {x:.2f} e para mulher: {y:.2f}\")"
      ],
      "metadata": {
        "id": "wZ6DWH5K_9xz"
      },
      "execution_count": null,
      "outputs": []
    },
    {
      "cell_type": "markdown",
      "source": [
        "AT 14"
      ],
      "metadata": {
        "id": "gq4Wyfhv_-yH"
      }
    },
    {
      "cell_type": "code",
      "source": [
        "P=float(input('quantos KG o peixe pesa? '))\n",
        "l=50\n",
        "if P>l:\n",
        "  excesso = P-l\n",
        "  multa = excesso*4\n",
        "else:\n",
        "  excesso=0\n",
        "  multa=0\n",
        "print(f\"Peso total de peixes: {P:.2f} kg\") #para deixar a resposta curta EX: 12.2222222 = 12.22\n",
        "print(f\"Excesso: {excesso:.2f} kg\")\n",
        "print(f\"Multa a pagar: R$ {multa:.2f}\")"
      ],
      "metadata": {
        "id": "wkF0kmIGAwtg"
      },
      "execution_count": null,
      "outputs": []
    },
    {
      "cell_type": "markdown",
      "source": [
        "AT 15"
      ],
      "metadata": {
        "id": "rtggyibzAAcR"
      }
    },
    {
      "cell_type": "code",
      "source": [
        "ht=int(input('quantas horas no mês vc trabalhar? '))\n",
        "P=int(input('qual o preço da sua hora? '))\n",
        "\n",
        "S=P*ht #salario bruto\n",
        "\n",
        "INSS=S*8/100\n",
        "IR=S*11/100\n",
        "SIND=S*5/100\n",
        "\n",
        "DESCONTOS=INSS+IR+SIND\n",
        "SL=S-DESCONTOS\n",
        "\n",
        "print(f'Seu pagamento mensal bruto foi de {S}R$ mas descontando:')\n",
        "print(f\"Os 8% do inss que será cobrado {INSS}R$\")\n",
        "print(f\"Os 11% do Imposto de Renda que será cobrado {IR}R$\")\n",
        "print(f\"Os 5% do sindicado que será cobrado {SIND}R$\")\n",
        "print(f'O seu Salario Liquido será {SL}R$ com todos os descontos')"
      ],
      "metadata": {
        "id": "YG33SA1gAxBU"
      },
      "execution_count": null,
      "outputs": []
    },
    {
      "cell_type": "markdown",
      "source": [
        "AT 16"
      ],
      "metadata": {
        "id": "sZ30WLAlASph"
      }
    },
    {
      "cell_type": "code",
      "source": [
        "M2=float(input('quantos metros quadrados possui o comodo? '))\n",
        "import math # para importar a funçao utilizada abaixo\n",
        "litros=M2/3\n",
        "if litros>18:\n",
        "  latas=math.ceil(litros / 18) # vai arredondar o resultado tbm podendo utilizar // para divisao inteira de uma vez\n",
        "  din=latas*80\n",
        "  print(f\"Vc vai precisar de {latas} latas de tinta que vai te gerar {din}R$\")\n",
        "else:print('Apenas uma lata de 80R$ será o suficiente')"
      ],
      "metadata": {
        "id": "Z2ltb7pNAxuP"
      },
      "execution_count": null,
      "outputs": []
    },
    {
      "cell_type": "markdown",
      "source": [
        "AT 17"
      ],
      "metadata": {
        "id": "FSIhKil5AUAL"
      }
    },
    {
      "cell_type": "code",
      "source": [
        "M2=float(input('quantos metros quadrados possui o comodo? '))\n",
        "import math\n",
        "#calculos\n",
        "litros=M2/6\n",
        "lata=math.ceil(litros / 18)\n",
        "balde=math.ceil(litros/3.6)\n",
        "\n",
        "#parte das misturas\n",
        "latas_mistura = int(litros // 18)\n",
        "rest = litros - (latas_mistura * 18)\n",
        "balde_mistura = math.ceil(rest/3.6)\n",
        "#preços\n",
        "V_B=balde*25\n",
        "V_l=lata*80\n",
        "M_LB=(latas_mistura*80)+(balde_mistura*25)\n",
        "\n",
        "#finalizaçao\n",
        "print(f\"Vc vai precisar de {balde} galões de tinta que vai te gerar {V_B}R$\")\n",
        "print(f\"Vc vai precisar de {lata} latas de tinta que vai te gerar {V_l}R$\")\n",
        "print(f\"vc pode comprar {latas_mistura} latas e {balde_mistura} galões de tinta que irá suprir toda demanda gerando apenas {M_LB}R$\")"
      ],
      "metadata": {
        "id": "tcr6lHzBAyJ1"
      },
      "execution_count": null,
      "outputs": []
    },
    {
      "cell_type": "markdown",
      "source": [
        "AT 18"
      ],
      "metadata": {
        "id": "1-d7_eUSAU_q"
      }
    },
    {
      "cell_type": "code",
      "source": [
        "MB=float(input('quantos MB vc deseja baixar? '))\n",
        "Mbps=float(input('qual a velocidade da sua internet(em Mb): '))\n",
        "#Calculos\n",
        "Tam_Mb=MB*8           # 1 MB = 8 Mb\n",
        "seg= Tam_Mb/Mbps\n",
        "min= seg/60\n",
        "#fim\n",
        "print(f\"seu arquivo de {MB} será baixado na velocidade de {Mbps}Mbps\")\n",
        "print(f\"levará {min:.2f} minutos aproximadamente\")"
      ],
      "metadata": {
        "id": "sE9YQx2HAyw6"
      },
      "execution_count": null,
      "outputs": []
    },
    {
      "cell_type": "markdown",
      "source": [
        "AT 19"
      ],
      "metadata": {
        "id": "eOEAF0WiAYEL"
      }
    },
    {
      "cell_type": "code",
      "source": [
        "vetor=[]\n",
        "quant = int(input(\"Digite quantos numeros vai inserir na lista: \"))\n",
        "for i in range(quant): # range vai repitir esse loop o valor que a variavel quant for atribuida\n",
        "  num=int(input(f\"qual sera o numero da {i+1}º posição: \"))\n",
        "  vetor.append(num) # isso é pra adicionar algo na lista\n",
        "else:\n",
        "  #pesquisa\n",
        "  pes = int(input(\"Digite um número para pesquisar: \"))\n",
        "  if pes in vetor:\n",
        "    p=vetor.index(pes) # pesquisar algo na lista\n",
        "    print(f\"O número {pes} existe na lista e está na posição {p}.\")\n",
        "  else: print(\"Não foi encontrado esse numero na lista\")"
      ],
      "metadata": {
        "id": "Vy0KRYY5AzC2"
      },
      "execution_count": null,
      "outputs": []
    },
    {
      "cell_type": "markdown",
      "source": [
        "AT 20"
      ],
      "metadata": {
        "id": "xd3lpdDLAZCC"
      }
    },
    {
      "cell_type": "code",
      "source": [
        "gabarito=(\n",
        "    'A','B','C','D','E',\n",
        "    'A','A','A','A','A',\n",
        "    'B','B','B','B','B',\n",
        "    'C','C','C','C','C',\n",
        "    )\n",
        "\n",
        "print(\"=== Sistema de Correção de Provas ===\")\n",
        "\n",
        "while True:\n",
        "\n",
        "  RESP_aluno=[] # ABRIR UMA LISTA\n",
        "  print(\"\\nDigite as respostas do aluno (20 questões - A, B, C, D ou E):\")\n",
        "  for i in range(20): # RANGE VAI REPETIR A QUANTIDADE DE VEZ QUE FOI ATRIBUIDA A VARIAVEL\n",
        "    R=input(f\"Raesposta da {i+1}º questao: \").strip().upper() #[I+1] TODA VEZ QUE REPETIR VAI SER ADICIONADO +1 NO VALOR DA VARIAVEL\n",
        "    RESP_aluno.append(R) # VAI ADICIONAR OQ FOR PEDIDO A LISTA\n",
        "    #Somente oq foi pedido\n",
        "    while R not in [\"A\", \"B\", \"C\", \"D\", \"E\"]:\n",
        "      R=input('Responda apenas com as Letras solicitadas! ').strip().upper() #STRIP PARA RETIRAR QUALQUE ESPAÇO Q TIVER E UPPER PRA COLOCAR PRA MAIUSCULA\n",
        "                                                                          # ESSA PARTE É PARA EVITAR QUALQUER RESPOSTA DIFERENTE\n",
        "  acertos=0\n",
        "  for i in range(20): # FOR É PARA REPETIÇAO\n",
        "   if RESP_aluno[i]==gabarito[i]: # [I] E O VALOR DE FOR\n",
        "       acertos = acertos+1\n",
        "  #porcentagem\n",
        "  p=(acertos/20)*100\n",
        "  print(f'\\nAcertos do aluno {acertos}/20') #\\N É PULAR LINHA\n",
        "\n",
        "  if p >=60:\n",
        "    print('Aluno Aprovado')\n",
        "  else:\n",
        "    print('Aluno Reprovado')\n",
        "\n",
        "  continuar = input(\"\\nDeseja cadastrar outro aluno? (S/N): \").strip().upper()\n",
        "  if continuar != \"S\": # VAI CONTINUAR COM O CODIGO\n",
        "      print(\"\\nPrograma finalizado.\")\n",
        "      break # CORTAR O CODIGO"
      ],
      "metadata": {
        "id": "RtSAGESeAzXk"
      },
      "execution_count": null,
      "outputs": []
    },
    {
      "cell_type": "markdown",
      "source": [
        "AT 21"
      ],
      "metadata": {
        "id": "LzCa1kbeAaQx"
      }
    },
    {
      "cell_type": "code",
      "source": [
        "L_City = []\n",
        "print('=== Lista de 6 cidades ===')\n",
        "for i in range(6):\n",
        "  city=input('\\nDigite aqui o nome da cidade: ')\n",
        "  while city in L_City:\n",
        "    city = input(\"\\nCidade já digitada! Digite outra: \")\n",
        "\n",
        "  add=input('Vc deseja adicionar um complemento em alguma cidade? (s/n)')\n",
        "  if add.lower() == \"s\":\n",
        "    comp = input('oq vc deseja adicionar?')\n",
        "    city = city+' '+comp\n",
        "\n",
        "  L_City.append(city)\n",
        "#cidade maior\n",
        "maior = \"\"\n",
        "for city in L_City:\n",
        "    if len(city) > len(maior):\n",
        "        maior = city\n",
        "#final\n",
        "print(\"\\nLista final de cidades:\", L_City) # agora n é mais preciso usar o \"f\" isso é mais facil\n",
        "print(\"A cidade com o nome mais longo é:\", maior)"
      ],
      "metadata": {
        "id": "2LBr-i3sA0KE"
      },
      "execution_count": null,
      "outputs": []
    },
    {
      "cell_type": "markdown",
      "source": [
        "AT 22"
      ],
      "metadata": {
        "id": "qzLliZ4fAbJe"
      }
    },
    {
      "cell_type": "code",
      "source": [
        "letra = input('Digite apenas uma vogal: ').lower()\n",
        "v = \"aeiou\"\n",
        "if letra in v:\n",
        "    print(\"É vogal\")\n",
        "elif letra.isalpha(): # GARANTE QUE É DO ALFABETO\n",
        "  print(\"É consoante\")\n",
        "else:\n",
        "  print('Resposta invalida')"
      ],
      "metadata": {
        "id": "XbJ7l8gSA0ic"
      },
      "execution_count": null,
      "outputs": []
    },
    {
      "cell_type": "markdown",
      "source": [
        "AT 23"
      ],
      "metadata": {
        "id": "14_Hj1zfAc57"
      }
    },
    {
      "cell_type": "code",
      "source": [
        "nota1 = float(input(\"Digite a primeira nota: \"))\n",
        "nota2 = float(input(\"Digite a segunda nota: \"))\n",
        "\n",
        "media = (nota1 + nota2) / 2\n",
        "\n",
        "if media == 10:\n",
        "    print(\"Aprovado com Distinção\")\n",
        "elif media >= 7:\n",
        "    print(\"Aprovado\")\n",
        "else:\n",
        "    print(\"Reprovado\")"
      ],
      "metadata": {
        "id": "DT58mYCWA09d"
      },
      "execution_count": null,
      "outputs": []
    },
    {
      "cell_type": "markdown",
      "source": [
        "AT 24"
      ],
      "metadata": {
        "id": "Qv_qPgr4AdlY"
      }
    },
    {
      "cell_type": "code",
      "source": [
        "palavra1 = input(\"Digite a primeira palavra: \")\n",
        "palavra2 = input(\"Digite a segunda palavra: \")\n",
        "palavra3 = input(\"Digite a terceira palavra: \")\n",
        "\n",
        "maior = palavra1\n",
        "\n",
        "if len(palavra2) > len(maior):\n",
        "    maior = palavra2\n",
        "if len(palavra3) > len(maior): #LEN É PARA CONTAR A QUANTIDADE DE CARACTERES DA VARIAVEL\n",
        "    maior = palavra3\n",
        "\n",
        "print(\"A maior palavra é:\", maior)\n",
        "print(\"Número de caracteres:\", len(maior))"
      ],
      "metadata": {
        "id": "BLoNR6g4A1Uy"
      },
      "execution_count": null,
      "outputs": []
    },
    {
      "cell_type": "markdown",
      "source": [
        "AT 25"
      ],
      "metadata": {
        "id": "hgt5JwpJAfjG"
      }
    },
    {
      "cell_type": "code",
      "source": [
        "num1 = float(input(\"Digite o primeiro número: \"))\n",
        "num2 = float(input(\"Digite o segundo número: \"))\n",
        "num3 = float(input(\"Digite o terceiro número: \"))\n",
        "\n",
        "maior = num1\n",
        "menor = num1\n",
        "\n",
        "if num2 > maior:\n",
        "    maior = num2\n",
        "if num3 > maior:\n",
        "    maior = num3\n",
        "\n",
        "if num2 < menor:\n",
        "    menor = num2\n",
        "if num3 < menor:\n",
        "    menor = num3\n",
        "\n",
        "print(\"O maior número é:\", maior)\n",
        "print(\"O menor número é:\", menor)"
      ],
      "metadata": {
        "id": "N15LQARhA1qU"
      },
      "execution_count": null,
      "outputs": []
    },
    {
      "cell_type": "markdown",
      "source": [
        "AT 26"
      ],
      "metadata": {
        "id": "mOMYnjc7AgyM"
      }
    },
    {
      "cell_type": "code",
      "source": [
        "p1 = float(input(\"Digite o preço do primeiro produto: \"))\n",
        "p2 = float(input(\"Digite o preço do segundo produto: \"))\n",
        "p3 = float(input(\"Digite o preço do terceiro produto: \"))\n",
        "\n",
        "mais_barato = p1\n",
        "nome = \"Produto 1\"\n",
        "\n",
        "if p2 < mais_barato:\n",
        "    mais_barato = p2\n",
        "    nome = \"Produto 2\"\n",
        "if p3 < mais_barato:\n",
        "    mais_barato = p3\n",
        "    nome = \"Produto 3\"\n",
        "\n",
        "print(\"Você deve comprar o\", nome, \"com preço de R$\", mais_barato)"
      ],
      "metadata": {
        "id": "nRBXfVRrA24S"
      },
      "execution_count": null,
      "outputs": []
    },
    {
      "cell_type": "markdown",
      "source": [
        "AT 27"
      ],
      "metadata": {
        "id": "bN336Y3FAi-V"
      }
    },
    {
      "cell_type": "code",
      "source": [
        "num1 = float(input(\"Digite o primeiro número: \"))\n",
        "num2 = float(input(\"Digite o segundo número: \"))\n",
        "num3 = float(input(\"Digite o terceiro número: \"))\n",
        "\n",
        "numeros = [num1, num2, num3]\n",
        "numeros.sort(reverse=True) #.sort deixa crescente, entao colocando reverse=true vira decrescente\n",
        "\n",
        "print(\"Números em ordem decrescente:\", numeros)"
      ],
      "metadata": {
        "id": "Pe7tHgN3A3aY"
      },
      "execution_count": null,
      "outputs": []
    },
    {
      "cell_type": "markdown",
      "source": [
        "AT 28"
      ],
      "metadata": {
        "id": "l66IcEztAmDo"
      }
    },
    {
      "cell_type": "code",
      "source": [
        "turno = input(\"Em que turno você estuda? (M-Matutino, V-Vespertino, N-Noturno): \")\n",
        "\n",
        "turno = turno.upper() #transforma todas as letras em maiúsculas.\n",
        "\n",
        "if turno == \"M\":\n",
        "    print(\"Bom Dia!\")\n",
        "elif turno == \"V\":\n",
        "    print(\"Boa Tarde!\")\n",
        "elif turno == \"N\":\n",
        "    print(\"Boa Noite!\")\n",
        "else:\n",
        "    print(\"Valor Inválido!\")"
      ],
      "metadata": {
        "id": "kOPo9rrZA3x9"
      },
      "execution_count": null,
      "outputs": []
    },
    {
      "cell_type": "markdown",
      "source": [
        "AT 29"
      ],
      "metadata": {
        "id": "nv1vzSTZAnBe"
      }
    },
    {
      "cell_type": "code",
      "source": [
        "salario = float(input(\"Digite o salário atual: \"))\n",
        "\n",
        "if salario <= 280:\n",
        "    percentual = 20\n",
        "elif salario <= 700:\n",
        "    percentual = 15\n",
        "elif salario <= 1500:\n",
        "    percentual = 10\n",
        "else:\n",
        "    percentual = 5\n",
        "\n",
        "v_aumento = salario * percentual / 100\n",
        "n_salario = salario + v_aumento\n",
        "\n",
        "print(\"Salário antes do reajuste: R$\", salario)\n",
        "print(\"Percentual de aumento aplicado:\", percentual, \"%\")\n",
        "print(\"Valor do aumento: R$\", v_aumento)\n",
        "print(\"Novo salário após o aumento: R$\", n_salario)"
      ],
      "metadata": {
        "id": "OdNa5dSHA4Dd"
      },
      "execution_count": null,
      "outputs": []
    },
    {
      "cell_type": "markdown",
      "source": [
        "AT 31"
      ],
      "metadata": {
        "id": "Fz1R_SgsApsx"
      }
    },
    {
      "cell_type": "code",
      "source": [
        "valor_hora = float(input(\"Digite o valor da sua hora de trabalho: \"))\n",
        "horas_trabalhadas = float(input(\"Digite a quantidade de horas trabalhadas no mês: \"))\n",
        "\n",
        "salario_bruto = valor_hora * horas_trabalhadas\n",
        "\n",
        "# Calculando o desconto do Imposto de Renda\n",
        "if salario_bruto <= 900:\n",
        "    ir = 0\n",
        "elif salario_bruto <= 1500:\n",
        "    ir = salario_bruto * 0.05\n",
        "elif salario_bruto <= 2500:\n",
        "    ir = salario_bruto * 0.10\n",
        "else:\n",
        "    ir = salario_bruto * 0.20\n",
        "\n",
        "sindicato = salario_bruto * 0.03\n",
        "fgts = salario_bruto * 0.11\n",
        "\n",
        "total_descontos = ir + sindicato\n",
        "salario_liquido = salario_bruto - total_descontos\n",
        "\n",
        "print(\"\\nFolha de pagamento:\")\n",
        "print(\"Salário Bruto: R$\", salario_bruto)\n",
        "print(\"(-) IR: R$\", ir)\n",
        "print(\"(-) Sindicato: R$\", sindicato)\n",
        "print(\"FGTS (não descontado): R$\", fgts)\n",
        "print(\"Total de descontos: R$\", total_descontos)\n",
        "print(\"Salário Líquido: R$\", salario_liquido)"
      ],
      "metadata": {
        "id": "BzBr40RtA5IA"
      },
      "execution_count": null,
      "outputs": []
    },
    {
      "cell_type": "markdown",
      "source": [
        "AT 32"
      ],
      "metadata": {
        "id": "vrv4mRJyArki"
      }
    },
    {
      "cell_type": "code",
      "source": [
        "print(\"=== Classificação de testemunhas  ===\")\n",
        "print(\"responda apenas com (S/N)\")\n",
        "\n",
        "vitima=0\n",
        "P1=input(\"Telefonou para a vítima? \").upper()\n",
        "if P1.upper() == 'S':\n",
        "  vitima = vitima + 1\n",
        "\n",
        "P2=input(\"Esteve no local do crime? \")\n",
        "if P2.upper() == 'S':\n",
        "  vitima = vitima + 1\n",
        "\n",
        "P3=input(\"Mora perto da vítima? \")\n",
        "if P3.upper() == 'S':\n",
        "  vitima = vitima + 1\n",
        "\n",
        "P4=input(\"Devia para a vítima? \")\n",
        "if P4.upper() == 'S':\n",
        "  vitima = vitima + 1\n",
        "\n",
        "P5=input(\"Já trabalhou com a vítima? \")\n",
        "if P5.upper() == 'S':\n",
        "  vitima = vitima + 1\n",
        "\n",
        "if vitima <= 2:\n",
        "  print(\"\\\\n0/A pessoa é suspeito(a)!\")\n",
        "elif vitima <= 3:\n",
        "  print(\"\\nA pessoa foi Cumplice!\")\n",
        "elif vitima == 5:\n",
        "  print(\"\\n A pessoa foi o Assasino!!\")\n",
        "elif vitima == 0:\n",
        "  print(\"\\nVc é inocente!\")\n",
        "\n",
        "print(\"Foram respondidas positivamente \",vitima,\"/ 5 perguntas\")"
      ],
      "metadata": {
        "id": "nOfMdqcJA5jQ"
      },
      "execution_count": null,
      "outputs": []
    },
    {
      "cell_type": "markdown",
      "source": [
        "AT 33"
      ],
      "metadata": {
        "id": "CED-7T_9AtbZ"
      }
    },
    {
      "cell_type": "code",
      "source": [
        "alunos = []\n",
        "\n",
        "for i in range(2):\n",
        "    print(f\"\\nCadastro do {i+1}º aluno:\")\n",
        "    nome = input(\"Nome: \")\n",
        "    matricula = input(\"Matrícula: \")\n",
        "    nota1 = float(input(\"Nota 1: \"))\n",
        "    nota2 = float(input(\"Nota 2: \"))\n",
        "    media = (nota1 + nota2) / 2\n",
        "\n",
        "    aluno = {\n",
        "        \"nome\": nome,\n",
        "        \"matricula\": matricula,\n",
        "        \"media\": media\n",
        "    }\n",
        "    alunos.append(aluno)\n",
        "\n",
        "print(\"\\n=== Dados dos alunos ===\")\n",
        "for aluno in alunos:\n",
        "    print(\"Matrícula:\", aluno[\"matricula\"], \"/ Nome:\", aluno[\"nome\"], \"/ Média:\", aluno[\"media\"])\n"
      ],
      "metadata": {
        "id": "kfy18CdoA6Bh"
      },
      "execution_count": null,
      "outputs": []
    },
    {
      "cell_type": "markdown",
      "source": [
        "AT 34"
      ],
      "metadata": {
        "id": "X47nORnCAut0"
      }
    },
    {
      "cell_type": "code",
      "source": [
        "pessoas = []\n",
        "\n",
        "qtd = int(input(\"Quantas pessoas deseja cadastrar? \"))\n",
        "\n",
        "for i in range(qtd):\n",
        "    print(f\"\\nCadastro da {i+1}ª pessoa:\")\n",
        "    nome = input(\"Nome: \")\n",
        "    altura = float(input(\"Altura (em metros): \"))\n",
        "    peso = float(input(\"Peso (em kg): \"))\n",
        "    cpf = input(\"CPF: \")\n",
        "    sexo = input(\"Sexo (M/F): \")\n",
        "\n",
        "    pessoa = {\n",
        "        \"nome\": nome,\n",
        "        \"altura\": altura,\n",
        "        \"peso\": peso,\n",
        "        \"cpf\": cpf,\n",
        "        \"sexo\": sexo\n",
        "    }\n",
        "    pessoas.append(pessoa)\n",
        "\n",
        "\n"
      ],
      "metadata": {
        "id": "kAT5bBKNA6W2"
      },
      "execution_count": null,
      "outputs": []
    },
    {
      "cell_type": "code",
      "source": [
        "print(\"\\n=== Localizar CPF ===\")\n",
        "cpf_busca = input(\"Digite o CPF da pessoa que deseja localizar: \")\n",
        "\n",
        "encontrado = False\n",
        "for pessoa in pessoas:\n",
        "    if pessoa[\"cpf\"] == cpf_busca:\n",
        "        imc = pessoa[\"peso\"] / (pessoa[\"altura\"] ** 2)\n",
        "        print(\"\\nPessoa encontrada!\")\n",
        "        print(\"Nome:\", pessoa[\"nome\"])\n",
        "        print(\"CPF:\", pessoa[\"cpf\"])\n",
        "        print(\"IMC:\", round(imc, 2))\n",
        "        encontrado = True\n",
        "        break\n",
        "\n",
        "if not encontrado:\n",
        "    print(\"CPF não encontrado!\")"
      ],
      "metadata": {
        "id": "rtNlVaIlJCid"
      },
      "execution_count": null,
      "outputs": []
    }
  ]
}